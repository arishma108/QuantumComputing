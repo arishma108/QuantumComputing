{
  "nbformat": 4,
  "nbformat_minor": 0,
  "metadata": {
    "colab": {
      "provenance": [],
      "authorship_tag": "ABX9TyNSqlX2bbzKl1ehjgdd9FQU",
      "include_colab_link": true
    },
    "kernelspec": {
      "name": "python3",
      "display_name": "Python 3"
    },
    "language_info": {
      "name": "python"
    }
  },
  "cells": [
    {
      "cell_type": "markdown",
      "metadata": {
        "id": "view-in-github",
        "colab_type": "text"
      },
      "source": [
        "<a href=\"https://colab.research.google.com/github/arishma108/QuantumComputing/blob/master/Quantum%20Information/Entanglement.ipynb\" target=\"_parent\"><img src=\"https://colab.research.google.com/assets/colab-badge.svg\" alt=\"Open In Colab\"/></a>"
      ]
    },
    {
      "cell_type": "code",
      "execution_count": 1,
      "metadata": {
        "colab": {
          "base_uri": "https://localhost:8080/"
        },
        "id": "8UbHushd5sIp",
        "outputId": "af2d66d5-77d7-4245-c0bc-4a65e10495b2"
      },
      "outputs": [
        {
          "output_type": "stream",
          "name": "stdout",
          "text": [
            "Collecting qiskit\n",
            "  Downloading qiskit-1.1.0-cp38-abi3-manylinux_2_17_x86_64.manylinux2014_x86_64.whl (4.3 MB)\n",
            "\u001b[2K     \u001b[90m━━━━━━━━━━━━━━━━━━━━━━━━━━━━━━━━━━━━━━━━\u001b[0m \u001b[32m4.3/4.3 MB\u001b[0m \u001b[31m24.8 MB/s\u001b[0m eta \u001b[36m0:00:00\u001b[0m\n",
            "\u001b[?25hCollecting rustworkx>=0.14.0 (from qiskit)\n",
            "  Downloading rustworkx-0.14.2-cp310-cp310-manylinux_2_17_x86_64.manylinux2014_x86_64.whl (2.1 MB)\n",
            "\u001b[2K     \u001b[90m━━━━━━━━━━━━━━━━━━━━━━━━━━━━━━━━━━━━━━━━\u001b[0m \u001b[32m2.1/2.1 MB\u001b[0m \u001b[31m15.5 MB/s\u001b[0m eta \u001b[36m0:00:00\u001b[0m\n",
            "\u001b[?25hRequirement already satisfied: numpy<3,>=1.17 in /usr/local/lib/python3.10/dist-packages (from qiskit) (1.25.2)\n",
            "Requirement already satisfied: scipy>=1.5 in /usr/local/lib/python3.10/dist-packages (from qiskit) (1.11.4)\n",
            "Requirement already satisfied: sympy>=1.3 in /usr/local/lib/python3.10/dist-packages (from qiskit) (1.12.1)\n",
            "Collecting dill>=0.3 (from qiskit)\n",
            "  Downloading dill-0.3.8-py3-none-any.whl (116 kB)\n",
            "\u001b[2K     \u001b[90m━━━━━━━━━━━━━━━━━━━━━━━━━━━━━━━━━━━━━━━━\u001b[0m \u001b[32m116.3/116.3 kB\u001b[0m \u001b[31m4.3 MB/s\u001b[0m eta \u001b[36m0:00:00\u001b[0m\n",
            "\u001b[?25hRequirement already satisfied: python-dateutil>=2.8.0 in /usr/local/lib/python3.10/dist-packages (from qiskit) (2.8.2)\n",
            "Collecting stevedore>=3.0.0 (from qiskit)\n",
            "  Downloading stevedore-5.2.0-py3-none-any.whl (49 kB)\n",
            "\u001b[2K     \u001b[90m━━━━━━━━━━━━━━━━━━━━━━━━━━━━━━━━━━━━━━━━\u001b[0m \u001b[32m49.7/49.7 kB\u001b[0m \u001b[31m2.1 MB/s\u001b[0m eta \u001b[36m0:00:00\u001b[0m\n",
            "\u001b[?25hRequirement already satisfied: typing-extensions in /usr/local/lib/python3.10/dist-packages (from qiskit) (4.12.2)\n",
            "Collecting symengine>=0.11 (from qiskit)\n",
            "  Downloading symengine-0.11.0-cp310-cp310-manylinux_2_12_x86_64.manylinux2010_x86_64.whl (39.4 MB)\n",
            "\u001b[2K     \u001b[90m━━━━━━━━━━━━━━━━━━━━━━━━━━━━━━━━━━━━━━━━\u001b[0m \u001b[32m39.4/39.4 MB\u001b[0m \u001b[31m8.6 MB/s\u001b[0m eta \u001b[36m0:00:00\u001b[0m\n",
            "\u001b[?25hRequirement already satisfied: six>=1.5 in /usr/local/lib/python3.10/dist-packages (from python-dateutil>=2.8.0->qiskit) (1.16.0)\n",
            "Collecting pbr!=2.1.0,>=2.0.0 (from stevedore>=3.0.0->qiskit)\n",
            "  Downloading pbr-6.0.0-py2.py3-none-any.whl (107 kB)\n",
            "\u001b[2K     \u001b[90m━━━━━━━━━━━━━━━━━━━━━━━━━━━━━━━━━━━━━━━━\u001b[0m \u001b[32m107.5/107.5 kB\u001b[0m \u001b[31m8.9 MB/s\u001b[0m eta \u001b[36m0:00:00\u001b[0m\n",
            "\u001b[?25hRequirement already satisfied: mpmath<1.4.0,>=1.1.0 in /usr/local/lib/python3.10/dist-packages (from sympy>=1.3->qiskit) (1.3.0)\n",
            "Installing collected packages: symengine, rustworkx, pbr, dill, stevedore, qiskit\n",
            "Successfully installed dill-0.3.8 pbr-6.0.0 qiskit-1.1.0 rustworkx-0.14.2 stevedore-5.2.0 symengine-0.11.0\n"
          ]
        }
      ],
      "source": [
        "!pip install qiskit"
      ]
    },
    {
      "cell_type": "code",
      "source": [
        "!pip install qiskit-aer  # Install the missing package"
      ],
      "metadata": {
        "colab": {
          "base_uri": "https://localhost:8080/"
        },
        "id": "6EAgua2GEQMZ",
        "outputId": "a0f39ff5-3dad-42b4-d91f-5b4d8e77d7d4"
      },
      "execution_count": 4,
      "outputs": [
        {
          "output_type": "stream",
          "name": "stdout",
          "text": [
            "Collecting qiskit-aer\n",
            "  Downloading qiskit_aer-0.14.2-cp310-cp310-manylinux_2_17_x86_64.manylinux2014_x86_64.whl (12.4 MB)\n",
            "\u001b[2K     \u001b[90m━━━━━━━━━━━━━━━━━━━━━━━━━━━━━━━━━━━━━━━━\u001b[0m \u001b[32m12.4/12.4 MB\u001b[0m \u001b[31m44.6 MB/s\u001b[0m eta \u001b[36m0:00:00\u001b[0m\n",
            "\u001b[?25hRequirement already satisfied: qiskit>=0.45.2 in /usr/local/lib/python3.10/dist-packages (from qiskit-aer) (1.1.0)\n",
            "Requirement already satisfied: numpy>=1.16.3 in /usr/local/lib/python3.10/dist-packages (from qiskit-aer) (1.25.2)\n",
            "Requirement already satisfied: scipy>=1.0 in /usr/local/lib/python3.10/dist-packages (from qiskit-aer) (1.11.4)\n",
            "Requirement already satisfied: psutil>=5 in /usr/local/lib/python3.10/dist-packages (from qiskit-aer) (5.9.5)\n",
            "Requirement already satisfied: rustworkx>=0.14.0 in /usr/local/lib/python3.10/dist-packages (from qiskit>=0.45.2->qiskit-aer) (0.14.2)\n",
            "Requirement already satisfied: sympy>=1.3 in /usr/local/lib/python3.10/dist-packages (from qiskit>=0.45.2->qiskit-aer) (1.12.1)\n",
            "Requirement already satisfied: dill>=0.3 in /usr/local/lib/python3.10/dist-packages (from qiskit>=0.45.2->qiskit-aer) (0.3.8)\n",
            "Requirement already satisfied: python-dateutil>=2.8.0 in /usr/local/lib/python3.10/dist-packages (from qiskit>=0.45.2->qiskit-aer) (2.8.2)\n",
            "Requirement already satisfied: stevedore>=3.0.0 in /usr/local/lib/python3.10/dist-packages (from qiskit>=0.45.2->qiskit-aer) (5.2.0)\n",
            "Requirement already satisfied: typing-extensions in /usr/local/lib/python3.10/dist-packages (from qiskit>=0.45.2->qiskit-aer) (4.12.2)\n",
            "Requirement already satisfied: symengine>=0.11 in /usr/local/lib/python3.10/dist-packages (from qiskit>=0.45.2->qiskit-aer) (0.11.0)\n",
            "Requirement already satisfied: six>=1.5 in /usr/local/lib/python3.10/dist-packages (from python-dateutil>=2.8.0->qiskit>=0.45.2->qiskit-aer) (1.16.0)\n",
            "Requirement already satisfied: pbr!=2.1.0,>=2.0.0 in /usr/local/lib/python3.10/dist-packages (from stevedore>=3.0.0->qiskit>=0.45.2->qiskit-aer) (6.0.0)\n",
            "Requirement already satisfied: mpmath<1.4.0,>=1.1.0 in /usr/local/lib/python3.10/dist-packages (from sympy>=1.3->qiskit>=0.45.2->qiskit-aer) (1.3.0)\n",
            "Installing collected packages: qiskit-aer\n",
            "Successfully installed qiskit-aer-0.14.2\n"
          ]
        }
      ]
    },
    {
      "cell_type": "code",
      "source": [
        "# Required imports\n",
        "\n",
        "from qiskit import QuantumCircuit, QuantumRegister, ClassicalRegister\n",
        "from qiskit_aer import AerSimulator\n",
        "from qiskit.visualization import plot_histogram\n",
        "from qiskit.result import marginal_distribution\n",
        "from qiskit.circuit.library import UGate\n",
        "from numpy import pi, random"
      ],
      "metadata": {
        "id": "2N_RxHY56Sjz"
      },
      "execution_count": 5,
      "outputs": []
    },
    {
      "cell_type": "code",
      "source": [
        "qubit = QuantumRegister(1, \"Q\")\n",
        "ebit0 = QuantumRegister(1, \"A\")\n",
        "ebit1 = QuantumRegister(1, \"B\")\n",
        "a = ClassicalRegister(1, \"a\")\n",
        "b = ClassicalRegister(1, \"b\")\n",
        "\n",
        "protocol = QuantumCircuit(qubit, ebit0, ebit1, a, b)\n",
        "\n",
        "# Prepare ebit used for teleportation\n",
        "protocol.h(ebit0)\n",
        "protocol.cx(ebit0, ebit1)\n",
        "protocol.barrier()\n",
        "\n",
        "# Alice's operations\n",
        "protocol.cx(qubit, ebit0)\n",
        "protocol.h(qubit)\n",
        "protocol.barrier()\n",
        "\n",
        "# Alice measures and sends classical bits to Bob\n",
        "protocol.measure(ebit0, a)\n",
        "protocol.measure(qubit, b)\n",
        "protocol.barrier()\n",
        "\n",
        "# Bob uses the classical bits to conditionally apply gates\n",
        "with protocol.if_test((a, 1)):\n",
        "    protocol.x(ebit1)\n",
        "with protocol.if_test((b, 1)):\n",
        "    protocol.z(ebit1)\n",
        "\n",
        "display(protocol.draw())"
      ],
      "metadata": {
        "colab": {
          "base_uri": "https://localhost:8080/",
          "height": 371
        },
        "id": "dZdkDtDMEX-g",
        "outputId": "ed193852-75f5-42d0-c35e-c07efad888f1"
      },
      "execution_count": 6,
      "outputs": [
        {
          "output_type": "display_data",
          "data": {
            "text/plain": [
              "                ░      ┌───┐ ░    ┌─┐ ░                                     »\n",
              "  Q: ───────────░───■──┤ H ├─░────┤M├─░─────────────────────────────────────»\n",
              "     ┌───┐      ░ ┌─┴─┐└───┘ ░ ┌─┐└╥┘ ░                                     »\n",
              "  A: ┤ H ├──■───░─┤ X ├──────░─┤M├─╫──░─────────────────────────────────────»\n",
              "     └───┘┌─┴─┐ ░ └───┘      ░ └╥┘ ║  ░ ┌────── ┌───┐ ───────┐ ┌────── ┌───┐»\n",
              "  B: ─────┤ X ├─░────────────░──╫──╫──░─┤ If-0  ┤ X ├  End-0 ├─┤ If-0  ┤ Z ├»\n",
              "          └───┘ ░            ░  ║  ║  ░ └──╥─── └───┘ ───────┘ └──╥─── └───┘»\n",
              "                                ║  ║    ┌──╨──┐                   ║         »\n",
              "a: 1/═══════════════════════════╩══╬════╡ 0x1 ╞═══════════════════╬═════════»\n",
              "                                0  ║    └─────┘                ┌──╨──┐      »\n",
              "b: 1/══════════════════════════════╩═══════════════════════════╡ 0x1 ╞══════»\n",
              "                                   0                           └─────┘      »\n",
              "«               \n",
              "«  Q: ──────────\n",
              "«               \n",
              "«  A: ──────────\n",
              "«      ───────┐ \n",
              "«  B:   End-0 ├─\n",
              "«      ───────┘ \n",
              "«a: 1/══════════\n",
              "«               \n",
              "«b: 1/══════════\n",
              "«               "
            ],
            "text/html": [
              "<pre style=\"word-wrap: normal;white-space: pre;background: #fff0;line-height: 1.1;font-family: &quot;Courier New&quot;,Courier,monospace\">                ░      ┌───┐ ░    ┌─┐ ░                                     »\n",
              "  Q: ───────────░───■──┤ H ├─░────┤M├─░─────────────────────────────────────»\n",
              "     ┌───┐      ░ ┌─┴─┐└───┘ ░ ┌─┐└╥┘ ░                                     »\n",
              "  A: ┤ H ├──■───░─┤ X ├──────░─┤M├─╫──░─────────────────────────────────────»\n",
              "     └───┘┌─┴─┐ ░ └───┘      ░ └╥┘ ║  ░ ┌────── ┌───┐ ───────┐ ┌────── ┌───┐»\n",
              "  B: ─────┤ X ├─░────────────░──╫──╫──░─┤ If-0  ┤ X ├  End-0 ├─┤ If-0  ┤ Z ├»\n",
              "          └───┘ ░            ░  ║  ║  ░ └──╥─── └───┘ ───────┘ └──╥─── └───┘»\n",
              "                                ║  ║    ┌──╨──┐                   ║         »\n",
              "a: 1/═══════════════════════════╩══╬════╡ 0x1 ╞═══════════════════╬═════════»\n",
              "                                0  ║    └─────┘                ┌──╨──┐      »\n",
              "b: 1/══════════════════════════════╩═══════════════════════════╡ 0x1 ╞══════»\n",
              "                                   0                           └─────┘      »\n",
              "«               \n",
              "«  Q: ──────────\n",
              "«               \n",
              "«  A: ──────────\n",
              "«      ───────┐ \n",
              "«  B:   End-0 ├─\n",
              "«      ───────┘ \n",
              "«a: 1/══════════\n",
              "«               \n",
              "«b: 1/══════════\n",
              "«               </pre>"
            ]
          },
          "metadata": {}
        }
      ]
    },
    {
      "cell_type": "code",
      "source": [
        "random_gate = UGate(\n",
        "    theta=random.random() * 2 * pi,\n",
        "    phi=random.random() * 2 * pi,\n",
        "    lam=random.random() * 2 * pi,\n",
        ")\n",
        "\n",
        "display(random_gate.to_matrix())"
      ],
      "metadata": {
        "colab": {
          "base_uri": "https://localhost:8080/",
          "height": 52
        },
        "id": "5eyCfJzgEdOf",
        "outputId": "a6d91110-9fe5-493b-9349-bbab87b36094"
      },
      "execution_count": 7,
      "outputs": [
        {
          "output_type": "display_data",
          "data": {
            "text/plain": [
              "array([[-0.92945321+0.j        ,  0.16484428+0.3300653j ],\n",
              "       [-0.16164013+0.3316462j , -0.92940962+0.00900101j]])"
            ]
          },
          "metadata": {}
        }
      ]
    },
    {
      "cell_type": "code",
      "source": [
        "# Create a new circuit including the same bits and qubits used in the\n",
        "# teleportation protocol.\n",
        "\n",
        "test = QuantumCircuit(qubit, ebit0, ebit1, a, b)\n",
        "\n",
        "# Start with the randomly selected gate on Q\n",
        "\n",
        "test.append(random_gate, qubit)\n",
        "test.barrier()\n",
        "\n",
        "# Append the entire teleportation protocol from above.\n",
        "\n",
        "test = test.compose(protocol)\n",
        "test.barrier()\n",
        "\n",
        "# Finally, apply the inverse of the random unitary to B and measure.\n",
        "\n",
        "test.append(random_gate.inverse(), ebit1)\n",
        "\n",
        "result = ClassicalRegister(1, \"Result\")\n",
        "test.add_register(result)\n",
        "test.measure(ebit1, result)\n",
        "\n",
        "display(test.draw())"
      ],
      "metadata": {
        "colab": {
          "base_uri": "https://localhost:8080/",
          "height": 633
        },
        "id": "MZIttxmtEfuv",
        "outputId": "97b6328c-d32d-4796-e447-e6982d9dc196"
      },
      "execution_count": 8,
      "outputs": [
        {
          "output_type": "display_data",
          "data": {
            "text/plain": [
              "          ┌─────────────────────────┐ ░            ░      ┌───┐ ░    ┌─┐ ░ »\n",
              "       Q: ┤ U(5.5274,2.0243,4.2492) ├─░────────────░───■──┤ H ├─░────┤M├─░─»\n",
              "          └─────────────────────────┘ ░ ┌───┐      ░ ┌─┴─┐└───┘ ░ ┌─┐└╥┘ ░ »\n",
              "       A: ────────────────────────────░─┤ H ├──■───░─┤ X ├──────░─┤M├─╫──░─»\n",
              "                                      ░ └───┘┌─┴─┐ ░ └───┘      ░ └╥┘ ║  ░ »\n",
              "       B: ────────────────────────────░──────┤ X ├─░────────────░──╫──╫──░─»\n",
              "                                      ░      └───┘ ░            ░  ║  ║  ░ »\n",
              "     a: 1/═════════════════════════════════════════════════════════╩══╬════»\n",
              "                                                                   0  ║    »\n",
              "     b: 1/════════════════════════════════════════════════════════════╩════»\n",
              "                                                                      0    »\n",
              "Result: 1/═════════════════════════════════════════════════════════════════»\n",
              "                                                                           »\n",
              "«                                                         ░ »\n",
              "«       Q: ───────────────────────────────────────────────░─»\n",
              "«                                                         ░ »\n",
              "«       A: ───────────────────────────────────────────────░─»\n",
              "«          ┌────── ┌───┐ ───────┐ ┌────── ┌───┐ ───────┐  ░ »\n",
              "«       B: ┤ If-0  ┤ X ├  End-0 ├─┤ If-0  ┤ Z ├  End-0 ├──░─»\n",
              "«          └──╥─── └───┘ ───────┘ └──╥─── └───┘ ───────┘  ░ »\n",
              "«          ┌──╨──┐                   ║                      »\n",
              "«     a: 1/╡ 0x1 ╞═══════════════════╬══════════════════════»\n",
              "«          └─────┘                ┌──╨──┐                   »\n",
              "«     b: 1/═══════════════════════╡ 0x1 ╞═══════════════════»\n",
              "«                                 └─────┘                   »\n",
              "«Result: 1/═════════════════════════════════════════════════»\n",
              "«                                                           »\n",
              "«                                           \n",
              "«       Q: ─────────────────────────────────\n",
              "«                                           \n",
              "«       A: ─────────────────────────────────\n",
              "«          ┌────────────────────────────┐┌─┐\n",
              "«       B: ┤ U(-5.5274,-4.2492,-2.0243) ├┤M├\n",
              "«          └────────────────────────────┘└╥┘\n",
              "«     a: 1/═══════════════════════════════╬═\n",
              "«                                         ║ \n",
              "«     b: 1/═══════════════════════════════╬═\n",
              "«                                         ║ \n",
              "«Result: 1/═══════════════════════════════╩═\n",
              "«                                         0 "
            ],
            "text/html": [
              "<pre style=\"word-wrap: normal;white-space: pre;background: #fff0;line-height: 1.1;font-family: &quot;Courier New&quot;,Courier,monospace\">          ┌─────────────────────────┐ ░            ░      ┌───┐ ░    ┌─┐ ░ »\n",
              "       Q: ┤ U(5.5274,2.0243,4.2492) ├─░────────────░───■──┤ H ├─░────┤M├─░─»\n",
              "          └─────────────────────────┘ ░ ┌───┐      ░ ┌─┴─┐└───┘ ░ ┌─┐└╥┘ ░ »\n",
              "       A: ────────────────────────────░─┤ H ├──■───░─┤ X ├──────░─┤M├─╫──░─»\n",
              "                                      ░ └───┘┌─┴─┐ ░ └───┘      ░ └╥┘ ║  ░ »\n",
              "       B: ────────────────────────────░──────┤ X ├─░────────────░──╫──╫──░─»\n",
              "                                      ░      └───┘ ░            ░  ║  ║  ░ »\n",
              "     a: 1/═════════════════════════════════════════════════════════╩══╬════»\n",
              "                                                                   0  ║    »\n",
              "     b: 1/════════════════════════════════════════════════════════════╩════»\n",
              "                                                                      0    »\n",
              "Result: 1/═════════════════════════════════════════════════════════════════»\n",
              "                                                                           »\n",
              "«                                                         ░ »\n",
              "«       Q: ───────────────────────────────────────────────░─»\n",
              "«                                                         ░ »\n",
              "«       A: ───────────────────────────────────────────────░─»\n",
              "«          ┌────── ┌───┐ ───────┐ ┌────── ┌───┐ ───────┐  ░ »\n",
              "«       B: ┤ If-0  ┤ X ├  End-0 ├─┤ If-0  ┤ Z ├  End-0 ├──░─»\n",
              "«          └──╥─── └───┘ ───────┘ └──╥─── └───┘ ───────┘  ░ »\n",
              "«          ┌──╨──┐                   ║                      »\n",
              "«     a: 1/╡ 0x1 ╞═══════════════════╬══════════════════════»\n",
              "«          └─────┘                ┌──╨──┐                   »\n",
              "«     b: 1/═══════════════════════╡ 0x1 ╞═══════════════════»\n",
              "«                                 └─────┘                   »\n",
              "«Result: 1/═════════════════════════════════════════════════»\n",
              "«                                                           »\n",
              "«                                           \n",
              "«       Q: ─────────────────────────────────\n",
              "«                                           \n",
              "«       A: ─────────────────────────────────\n",
              "«          ┌────────────────────────────┐┌─┐\n",
              "«       B: ┤ U(-5.5274,-4.2492,-2.0243) ├┤M├\n",
              "«          └────────────────────────────┘└╥┘\n",
              "«     a: 1/═══════════════════════════════╬═\n",
              "«                                         ║ \n",
              "«     b: 1/═══════════════════════════════╬═\n",
              "«                                         ║ \n",
              "«Result: 1/═══════════════════════════════╩═\n",
              "«                                         0 </pre>"
            ]
          },
          "metadata": {}
        }
      ]
    },
    {
      "cell_type": "code",
      "source": [
        "result = AerSimulator().run(test).result()\n",
        "statistics = result.get_counts()\n",
        "display(plot_histogram(statistics))"
      ],
      "metadata": {
        "colab": {
          "base_uri": "https://localhost:8080/",
          "height": 454
        },
        "id": "ZShaY10fEjTv",
        "outputId": "1dbb55de-adb8-43af-a416-26687f5d4c13"
      },
      "execution_count": 9,
      "outputs": [
        {
          "output_type": "display_data",
          "data": {
            "text/plain": [
              "<Figure size 640x480 with 1 Axes>"
            ],
            "image/png": "[encoded data removed]"
          },
          "metadata": {}
        }
      ]
    },
    {
      "cell_type": "code",
      "source": [
        "filtered_statistics = marginal_distribution(statistics, [2])\n",
        "display(plot_histogram(filtered_statistics))"
      ],
      "metadata": {
        "colab": {
          "base_uri": "https://localhost:8080/",
          "height": 429
        },
        "id": "pN7lAZmMEl1f",
        "outputId": "724e9501-a15d-4dd8-b882-39db732b6d77"
      },
      "execution_count": 10,
      "outputs": [
        {
          "output_type": "display_data",
          "data": {
            "text/plain": [
              "<Figure size 640x480 with 1 Axes>"
            ],
            "image/png": "[encoded data removed]"
          },
          "metadata": {}
        }
      ]
    },
    {
      "cell_type": "code",
      "source": [
        "# Required imports\n",
        "\n",
        "from qiskit import QuantumCircuit, QuantumRegister, ClassicalRegister\n",
        "from qiskit_aer.primitives import Sampler\n",
        "from qiskit_aer import AerSimulator\n",
        "from qiskit.visualization import plot_histogram"
      ],
      "metadata": {
        "id": "0Jac-S0TEqTP"
      },
      "execution_count": 11,
      "outputs": []
    },
    {
      "cell_type": "code",
      "source": [
        "c = \"1\"\n",
        "d = \"0\""
      ],
      "metadata": {
        "id": "aUkSOiJMEsSP"
      },
      "execution_count": 12,
      "outputs": []
    },
    {
      "cell_type": "code",
      "source": [
        "protocol = QuantumCircuit(2)\n",
        "\n",
        "# Prepare ebit used for superdense coding\n",
        "protocol.h(0)\n",
        "protocol.cx(0, 1)\n",
        "protocol.barrier()\n",
        "\n",
        "# Alice's operations\n",
        "if d == \"1\":\n",
        "    protocol.z(0)\n",
        "if c == \"1\":\n",
        "    protocol.x(0)\n",
        "protocol.barrier()\n",
        "\n",
        "# Bob's actions\n",
        "protocol.cx(0, 1)\n",
        "protocol.h(0)\n",
        "protocol.measure_all()\n",
        "\n",
        "display(protocol.draw())"
      ],
      "metadata": {
        "colab": {
          "base_uri": "https://localhost:8080/",
          "height": 125
        },
        "id": "pG83pdPDEu7_",
        "outputId": "5195c1d7-4f03-42a1-b036-3defbac0a2ae"
      },
      "execution_count": 13,
      "outputs": [
        {
          "output_type": "display_data",
          "data": {
            "text/plain": [
              "        ┌───┐      ░ ┌───┐ ░      ┌───┐ ░ ┌─┐   \n",
              "   q_0: ┤ H ├──■───░─┤ X ├─░───■──┤ H ├─░─┤M├───\n",
              "        └───┘┌─┴─┐ ░ └───┘ ░ ┌─┴─┐└───┘ ░ └╥┘┌─┐\n",
              "   q_1: ─────┤ X ├─░───────░─┤ X ├──────░──╫─┤M├\n",
              "             └───┘ ░       ░ └───┘      ░  ║ └╥┘\n",
              "meas: 2/═══════════════════════════════════╩══╩═\n",
              "                                           0  1 "
            ],
            "text/html": [
              "<pre style=\"word-wrap: normal;white-space: pre;background: #fff0;line-height: 1.1;font-family: &quot;Courier New&quot;,Courier,monospace\">        ┌───┐      ░ ┌───┐ ░      ┌───┐ ░ ┌─┐   \n",
              "   q_0: ┤ H ├──■───░─┤ X ├─░───■──┤ H ├─░─┤M├───\n",
              "        └───┘┌─┴─┐ ░ └───┘ ░ ┌─┴─┐└───┘ ░ └╥┘┌─┐\n",
              "   q_1: ─────┤ X ├─░───────░─┤ X ├──────░──╫─┤M├\n",
              "             └───┘ ░       ░ └───┘      ░  ║ └╥┘\n",
              "meas: 2/═══════════════════════════════════╩══╩═\n",
              "                                           0  1 </pre>"
            ]
          },
          "metadata": {}
        }
      ]
    },
    {
      "cell_type": "code",
      "source": [
        "result = Sampler().run(protocol).result()\n",
        "statistics = result.quasi_dists[0].binary_probabilities()\n",
        "\n",
        "for outcome, frequency in statistics.items():\n",
        "    print(f\"Measured {outcome} with frequency {frequency}\")\n",
        "\n",
        "display(plot_histogram(statistics))"
      ],
      "metadata": {
        "colab": {
          "base_uri": "https://localhost:8080/",
          "height": 454
        },
        "id": "Q9lQ-CHVExG4",
        "outputId": "fc9a0b11-cf4f-41d1-8bfb-7aea14c86ed7"
      },
      "execution_count": 14,
      "outputs": [
        {
          "output_type": "stream",
          "name": "stdout",
          "text": [
            "Measured 10 with frequency 1.0\n"
          ]
        },
        {
          "output_type": "display_data",
          "data": {
            "text/plain": [
              "<Figure size 640x480 with 1 Axes>"
            ],
            "image/png": "[encoded data removed]"
          },
          "metadata": {}
        }
      ]
    },
    {
      "cell_type": "code",
      "source": [
        "rbg = QuantumRegister(1, \"randomizer\")\n",
        "ebit0 = QuantumRegister(1, \"A\")\n",
        "ebit1 = QuantumRegister(1, \"B\")\n",
        "\n",
        "Alice_c = ClassicalRegister(1, \"Alice c\")\n",
        "Alice_d = ClassicalRegister(1, \"Alice d\")\n",
        "\n",
        "test = QuantumCircuit(rbg, ebit0, ebit1, Alice_d, Alice_c)\n",
        "\n",
        "# Initialize the ebit\n",
        "test.h(ebit0)\n",
        "test.cx(ebit0, ebit1)\n",
        "test.barrier()\n",
        "\n",
        "# Use the 'randomizer' qubit twice to generate Alice's bits c and d.\n",
        "test.h(rbg)\n",
        "test.measure(rbg, Alice_c)\n",
        "test.h(rbg)\n",
        "test.measure(rbg, Alice_d)\n",
        "test.barrier()\n",
        "\n",
        "# Now the protocol runs, starting with Alice's actions, which depend\n",
        "# on her bits.\n",
        "with test.if_test((Alice_d, 1), label=\"Z\"):\n",
        "    test.z(ebit0)\n",
        "with test.if_test((Alice_c, 1), label=\"X\"):\n",
        "    test.x(ebit0)\n",
        "test.barrier()\n",
        "\n",
        "# Bob's actions\n",
        "test.cx(ebit0, ebit1)\n",
        "test.h(ebit0)\n",
        "test.barrier()\n",
        "\n",
        "Bob_c = ClassicalRegister(1, \"Bob c\")\n",
        "Bob_d = ClassicalRegister(1, \"Bob d\")\n",
        "test.add_register(Bob_d)\n",
        "test.add_register(Bob_c)\n",
        "test.measure(ebit0, Bob_d)\n",
        "test.measure(ebit1, Bob_c)\n",
        "\n",
        "display(test.draw())"
      ],
      "metadata": {
        "colab": {
          "base_uri": "https://localhost:8080/",
          "height": 479
        },
        "id": "xD0JVGGUE03Q",
        "outputId": "4a6cd346-54ff-43eb-acfb-d65640b26dfd"
      },
      "execution_count": 15,
      "outputs": [
        {
          "output_type": "display_data",
          "data": {
            "text/plain": [
              "                       ░ ┌───┐┌─┐┌───┐┌─┐ ░                                »\n",
              "randomizer: ───────────░─┤ H ├┤M├┤ H ├┤M├─░────────────────────────────────»\n",
              "            ┌───┐      ░ └───┘└╥┘└───┘└╥┘ ░ ┌────── ┌───┐ ───────┐ ┌────── »\n",
              "         A: ┤ H ├──■───░───────╫───────╫──░─┤ If-0  ┤ Z ├  End-0 ├─┤ If-0  »\n",
              "            └───┘┌─┴─┐ ░       ║       ║  ░ └──╥─── └───┘ ───────┘ └──╥─── »\n",
              "         B: ─────┤ X ├─░───────╫───────╫──░────╫──────────────────────╫────»\n",
              "                 └───┘ ░       ║       ║  ░ ┌──╨──┐                   ║    »\n",
              " Alice d: 1/═══════════════════╬═══════╩════╡ 0x1 ╞═══════════════════╬════»\n",
              "                               ║       0    └─────┘                ┌──╨──┐ »\n",
              " Alice c: 1/═══════════════════╩═══════════════════════════════════╡ 0x1 ╞═»\n",
              "                               0                                   └─────┘ »\n",
              "   Bob d: 1/═══════════════════════════════════════════════════════════════»\n",
              "                                                                           »\n",
              "   Bob c: 1/═══════════════════════════════════════════════════════════════»\n",
              "                                                                           »\n",
              "«                            ░            ░       \n",
              "«randomizer: ────────────────░────────────░───────\n",
              "«            ┌───┐ ───────┐  ░      ┌───┐ ░ ┌─┐   \n",
              "«         A: ┤ X ├  End-0 ├──░───■──┤ H ├─░─┤M├───\n",
              "«            └───┘ ───────┘  ░ ┌─┴─┐└───┘ ░ └╥┘┌─┐\n",
              "«         B: ────────────────░─┤ X ├──────░──╫─┤M├\n",
              "«                            ░ └───┘      ░  ║ └╥┘\n",
              "« Alice d: 1/════════════════════════════════╬══╬═\n",
              "«                                            ║  ║ \n",
              "« Alice c: 1/════════════════════════════════╬══╬═\n",
              "«                                            ║  ║ \n",
              "«   Bob d: 1/════════════════════════════════╩══╬═\n",
              "«                                            0  ║ \n",
              "«   Bob c: 1/═══════════════════════════════════╩═\n",
              "«                                               0 "
            ],
            "text/html": [
              "<pre style=\"word-wrap: normal;white-space: pre;background: #fff0;line-height: 1.1;font-family: &quot;Courier New&quot;,Courier,monospace\">                       ░ ┌───┐┌─┐┌───┐┌─┐ ░                                »\n",
              "randomizer: ───────────░─┤ H ├┤M├┤ H ├┤M├─░────────────────────────────────»\n",
              "            ┌───┐      ░ └───┘└╥┘└───┘└╥┘ ░ ┌────── ┌───┐ ───────┐ ┌────── »\n",
              "         A: ┤ H ├──■───░───────╫───────╫──░─┤ If-0  ┤ Z ├  End-0 ├─┤ If-0  »\n",
              "            └───┘┌─┴─┐ ░       ║       ║  ░ └──╥─── └───┘ ───────┘ └──╥─── »\n",
              "         B: ─────┤ X ├─░───────╫───────╫──░────╫──────────────────────╫────»\n",
              "                 └───┘ ░       ║       ║  ░ ┌──╨──┐                   ║    »\n",
              " Alice d: 1/═══════════════════╬═══════╩════╡ 0x1 ╞═══════════════════╬════»\n",
              "                               ║       0    └─────┘                ┌──╨──┐ »\n",
              " Alice c: 1/═══════════════════╩═══════════════════════════════════╡ 0x1 ╞═»\n",
              "                               0                                   └─────┘ »\n",
              "   Bob d: 1/═══════════════════════════════════════════════════════════════»\n",
              "                                                                           »\n",
              "   Bob c: 1/═══════════════════════════════════════════════════════════════»\n",
              "                                                                           »\n",
              "«                            ░            ░       \n",
              "«randomizer: ────────────────░────────────░───────\n",
              "«            ┌───┐ ───────┐  ░      ┌───┐ ░ ┌─┐   \n",
              "«         A: ┤ X ├  End-0 ├──░───■──┤ H ├─░─┤M├───\n",
              "«            └───┘ ───────┘  ░ ┌─┴─┐└───┘ ░ └╥┘┌─┐\n",
              "«         B: ────────────────░─┤ X ├──────░──╫─┤M├\n",
              "«                            ░ └───┘      ░  ║ └╥┘\n",
              "« Alice d: 1/════════════════════════════════╬══╬═\n",
              "«                                            ║  ║ \n",
              "« Alice c: 1/════════════════════════════════╬══╬═\n",
              "«                                            ║  ║ \n",
              "«   Bob d: 1/════════════════════════════════╩══╬═\n",
              "«                                            0  ║ \n",
              "«   Bob c: 1/═══════════════════════════════════╩═\n",
              "«                                               0 </pre>"
            ]
          },
          "metadata": {}
        }
      ]
    },
    {
      "cell_type": "code",
      "source": [
        "result = AerSimulator().run(test).result()\n",
        "statistics = result.get_counts()\n",
        "display(plot_histogram(statistics))"
      ],
      "metadata": {
        "colab": {
          "base_uri": "https://localhost:8080/",
          "height": 466
        },
        "id": "HZZ6AiY3E4cu",
        "outputId": "8436e296-9656-4dc6-c216-521061d9c5a3"
      },
      "execution_count": 16,
      "outputs": [
        {
          "output_type": "display_data",
          "data": {
            "text/plain": [
              "<Figure size 640x480 with 1 Axes>"
            ],
            "image/png": "[encoded data removed]"
          },
          "metadata": {}
        }
      ]
    },
    {
      "cell_type": "code",
      "source": [
        "# Required imports\n",
        "\n",
        "from qiskit import QuantumCircuit\n",
        "from qiskit_aer.primitives import Sampler\n",
        "from numpy import pi\n",
        "from numpy.random import randint"
      ],
      "metadata": {
        "id": "dLKj0hQpFALu"
      },
      "execution_count": 17,
      "outputs": []
    },
    {
      "cell_type": "code",
      "source": [
        "def chsh_game(strategy):\n",
        "    \"\"\"Plays the CHSH game\n",
        "    Args:\n",
        "        strategy (callable): A function that takes two bits (as `int`s) and\n",
        "            returns two bits (also as `int`s). The strategy must follow the\n",
        "            rules of the CHSH game.\n",
        "    Returns:\n",
        "        int: 1 for a win, 0 for a loss.\n",
        "    \"\"\"\n",
        "    # Referee chooses x and y randomly\n",
        "    x, y = randint(0, 2), randint(0, 2)\n",
        "\n",
        "    # Use strategy to choose a and b\n",
        "    a, b = strategy(x, y)\n",
        "\n",
        "    # Referee decides if Alice and Bob win or lose\n",
        "    if (a != b) == (x & y):\n",
        "        return 1  # Win\n",
        "    return 0  # Lose"
      ],
      "metadata": {
        "id": "niIw-nNQFDWm"
      },
      "execution_count": 18,
      "outputs": []
    },
    {
      "cell_type": "code",
      "source": [
        "def chsh_circuit(x, y):\n",
        "    \"\"\"Creates a `QuantumCircuit` that implements the best CHSH strategy.\n",
        "    Args:\n",
        "        x (int): Alice's bit (must be 0 or 1)\n",
        "        y (int): Bob's bit (must be 0 or 1)\n",
        "    Returns:\n",
        "        QuantumCircuit: Circuit that, when run, returns Alice and Bob's\n",
        "            answer bits.\n",
        "    \"\"\"\n",
        "    qc = QuantumCircuit(2, 2)\n",
        "    qc.h(0)\n",
        "    qc.cx(0, 1)\n",
        "    qc.barrier()\n",
        "\n",
        "    # Alice\n",
        "    if x == 0:\n",
        "        qc.ry(0, 0)\n",
        "    else:\n",
        "        qc.ry(-pi / 2, 0)\n",
        "    qc.measure(0, 0)\n",
        "\n",
        "    # Bob\n",
        "    if y == 0:\n",
        "        qc.ry(-pi / 4, 1)\n",
        "    else:\n",
        "        qc.ry(pi / 4, 1)\n",
        "    qc.measure(1, 1)\n",
        "\n",
        "    return qc"
      ],
      "metadata": {
        "id": "70bcVURIFGiQ"
      },
      "execution_count": 19,
      "outputs": []
    },
    {
      "cell_type": "code",
      "source": [
        "# Draw the four possible circuits\n",
        "\n",
        "print(\"(x,y) = (0,0)\")\n",
        "display(chsh_circuit(0, 0).draw())\n",
        "\n",
        "print(\"(x,y) = (0,1)\")\n",
        "display(chsh_circuit(0, 1).draw())\n",
        "\n",
        "print(\"(x,y) = (1,0)\")\n",
        "display(chsh_circuit(1, 0).draw())\n",
        "\n",
        "print(\"(x,y) = (1,1)\")\n",
        "display(chsh_circuit(1, 1).draw())"
      ],
      "metadata": {
        "colab": {
          "base_uri": "https://localhost:8080/",
          "height": 517
        },
        "id": "z1jj46sHFKIm",
        "outputId": "c950ae8c-f843-4674-ba44-02a9807d6227"
      },
      "execution_count": 20,
      "outputs": [
        {
          "output_type": "stream",
          "name": "stdout",
          "text": [
            "(x,y) = (0,0)\n"
          ]
        },
        {
          "output_type": "display_data",
          "data": {
            "text/plain": [
              "     ┌───┐      ░  ┌───────┐  ┌─┐   \n",
              "q_0: ┤ H ├──■───░──┤ Ry(0) ├──┤M├───\n",
              "     └───┘┌─┴─┐ ░ ┌┴───────┴─┐└╥┘┌─┐\n",
              "q_1: ─────┤ X ├─░─┤ Ry(-π/4) ├─╫─┤M├\n",
              "          └───┘ ░ └──────────┘ ║ └╥┘\n",
              "c: 2/══════════════════════════╩══╩═\n",
              "                               0  1 "
            ],
            "text/html": [
              "<pre style=\"word-wrap: normal;white-space: pre;background: #fff0;line-height: 1.1;font-family: &quot;Courier New&quot;,Courier,monospace\">     ┌───┐      ░  ┌───────┐  ┌─┐   \n",
              "q_0: ┤ H ├──■───░──┤ Ry(0) ├──┤M├───\n",
              "     └───┘┌─┴─┐ ░ ┌┴───────┴─┐└╥┘┌─┐\n",
              "q_1: ─────┤ X ├─░─┤ Ry(-π/4) ├─╫─┤M├\n",
              "          └───┘ ░ └──────────┘ ║ └╥┘\n",
              "c: 2/══════════════════════════╩══╩═\n",
              "                               0  1 </pre>"
            ]
          },
          "metadata": {}
        },
        {
          "output_type": "stream",
          "name": "stdout",
          "text": [
            "(x,y) = (0,1)\n"
          ]
        },
        {
          "output_type": "display_data",
          "data": {
            "text/plain": [
              "     ┌───┐      ░  ┌───────┐ ┌─┐   \n",
              "q_0: ┤ H ├──■───░──┤ Ry(0) ├─┤M├───\n",
              "     └───┘┌─┴─┐ ░ ┌┴───────┴┐└╥┘┌─┐\n",
              "q_1: ─────┤ X ├─░─┤ Ry(π/4) ├─╫─┤M├\n",
              "          └───┘ ░ └─────────┘ ║ └╥┘\n",
              "c: 2/═════════════════════════╩══╩═\n",
              "                              0  1 "
            ],
            "text/html": [
              "<pre style=\"word-wrap: normal;white-space: pre;background: #fff0;line-height: 1.1;font-family: &quot;Courier New&quot;,Courier,monospace\">     ┌───┐      ░  ┌───────┐ ┌─┐   \n",
              "q_0: ┤ H ├──■───░──┤ Ry(0) ├─┤M├───\n",
              "     └───┘┌─┴─┐ ░ ┌┴───────┴┐└╥┘┌─┐\n",
              "q_1: ─────┤ X ├─░─┤ Ry(π/4) ├─╫─┤M├\n",
              "          └───┘ ░ └─────────┘ ║ └╥┘\n",
              "c: 2/═════════════════════════╩══╩═\n",
              "                              0  1 </pre>"
            ]
          },
          "metadata": {}
        },
        {
          "output_type": "stream",
          "name": "stdout",
          "text": [
            "(x,y) = (1,0)\n"
          ]
        },
        {
          "output_type": "display_data",
          "data": {
            "text/plain": [
              "     ┌───┐      ░ ┌──────────┐┌─┐   \n",
              "q_0: ┤ H ├──■───░─┤ Ry(-π/2) ├┤M├───\n",
              "     └───┘┌─┴─┐ ░ ├──────────┤└╥┘┌─┐\n",
              "q_1: ─────┤ X ├─░─┤ Ry(-π/4) ├─╫─┤M├\n",
              "          └───┘ ░ └──────────┘ ║ └╥┘\n",
              "c: 2/══════════════════════════╩══╩═\n",
              "                               0  1 "
            ],
            "text/html": [
              "<pre style=\"word-wrap: normal;white-space: pre;background: #fff0;line-height: 1.1;font-family: &quot;Courier New&quot;,Courier,monospace\">     ┌───┐      ░ ┌──────────┐┌─┐   \n",
              "q_0: ┤ H ├──■───░─┤ Ry(-π/2) ├┤M├───\n",
              "     └───┘┌─┴─┐ ░ ├──────────┤└╥┘┌─┐\n",
              "q_1: ─────┤ X ├─░─┤ Ry(-π/4) ├─╫─┤M├\n",
              "          └───┘ ░ └──────────┘ ║ └╥┘\n",
              "c: 2/══════════════════════════╩══╩═\n",
              "                               0  1 </pre>"
            ]
          },
          "metadata": {}
        },
        {
          "output_type": "stream",
          "name": "stdout",
          "text": [
            "(x,y) = (1,1)\n"
          ]
        },
        {
          "output_type": "display_data",
          "data": {
            "text/plain": [
              "     ┌───┐      ░ ┌──────────┐┌─┐   \n",
              "q_0: ┤ H ├──■───░─┤ Ry(-π/2) ├┤M├───\n",
              "     └───┘┌─┴─┐ ░ ├─────────┬┘└╥┘┌─┐\n",
              "q_1: ─────┤ X ├─░─┤ Ry(π/4) ├──╫─┤M├\n",
              "          └───┘ ░ └─────────┘  ║ └╥┘\n",
              "c: 2/══════════════════════════╩══╩═\n",
              "                               0  1 "
            ],
            "text/html": [
              "<pre style=\"word-wrap: normal;white-space: pre;background: #fff0;line-height: 1.1;font-family: &quot;Courier New&quot;,Courier,monospace\">     ┌───┐      ░ ┌──────────┐┌─┐   \n",
              "q_0: ┤ H ├──■───░─┤ Ry(-π/2) ├┤M├───\n",
              "     └───┘┌─┴─┐ ░ ├─────────┬┘└╥┘┌─┐\n",
              "q_1: ─────┤ X ├─░─┤ Ry(π/4) ├──╫─┤M├\n",
              "          └───┘ ░ └─────────┘  ║ └╥┘\n",
              "c: 2/══════════════════════════╩══╩═\n",
              "                               0  1 </pre>"
            ]
          },
          "metadata": {}
        }
      ]
    },
    {
      "cell_type": "code",
      "source": [
        "sampler = Sampler()\n",
        "\n",
        "\n",
        "def quantum_strategy(x, y):\n",
        "    \"\"\"Carry out the best strategy for the CHSH game.\n",
        "    Args:\n",
        "        x (int): Alice's bit (must be 0 or 1)\n",
        "        y (int): Bob's bit (must be 0 or 1)\n",
        "    Returns:\n",
        "        (int, int): Alice and Bob's answer bits (respectively)\n",
        "    \"\"\"\n",
        "    # `shots=1` runs the circuit once\n",
        "    result = sampler.run(chsh_circuit(x, y), shots=1).result()\n",
        "    statistics = result.quasi_dists[0].binary_probabilities()\n",
        "    bits = list(statistics.keys())[0]\n",
        "    a, b = bits[0], bits[1]\n",
        "    return a, b"
      ],
      "metadata": {
        "id": "rpIDW85sFOxu"
      },
      "execution_count": 21,
      "outputs": []
    },
    {
      "cell_type": "code",
      "source": [
        "NUM_GAMES = 1000\n",
        "TOTAL_SCORE = 0\n",
        "\n",
        "for _ in range(NUM_GAMES):\n",
        "    TOTAL_SCORE += chsh_game(quantum_strategy)\n",
        "\n",
        "print(\"Fraction of games won:\", TOTAL_SCORE / NUM_GAMES)"
      ],
      "metadata": {
        "colab": {
          "base_uri": "https://localhost:8080/"
        },
        "id": "mUhD4jl8FRq1",
        "outputId": "85c36257-c77d-42d2-bcf5-89aa892cdb07"
      },
      "execution_count": 22,
      "outputs": [
        {
          "output_type": "stream",
          "name": "stdout",
          "text": [
            "Fraction of games won: 0.869\n"
          ]
        }
      ]
    },
    {
      "cell_type": "code",
      "source": [
        "def classical_strategy(x, y):\n",
        "    \"\"\"An optimal classical strategy for the CHSH game\n",
        "    Args:\n",
        "        x (int): Alice's bit (must be 0 or 1)\n",
        "        y (int): Bob's bit (must be 0 or 1)\n",
        "    Returns:\n",
        "        (int, int): Alice and Bob's answer bits (respectively)\n",
        "    \"\"\"\n",
        "    # Alice's answer\n",
        "    if x == 0:\n",
        "        a = 0\n",
        "    elif x == 1:\n",
        "        a = 1\n",
        "\n",
        "    # Bob's answer\n",
        "    if y == 0:\n",
        "        b = 1\n",
        "    elif y == 1:\n",
        "        b = 0\n",
        "\n",
        "    return a, b"
      ],
      "metadata": {
        "id": "pp73wvJ_FUY1"
      },
      "execution_count": 23,
      "outputs": []
    },
    {
      "cell_type": "code",
      "source": [
        "NUM_GAMES = 1000\n",
        "TOTAL_SCORE = 0\n",
        "\n",
        "for _ in range(NUM_GAMES):\n",
        "    TOTAL_SCORE += chsh_game(classical_strategy)\n",
        "\n",
        "print(\"Fraction of games won:\", TOTAL_SCORE / NUM_GAMES)"
      ],
      "metadata": {
        "colab": {
          "base_uri": "https://localhost:8080/"
        },
        "id": "Oqp3Oq4fFXzi",
        "outputId": "fa921710-389b-4a01-eb15-727c276f0c8e"
      },
      "execution_count": 24,
      "outputs": [
        {
          "output_type": "stream",
          "name": "stdout",
          "text": [
            "Fraction of games won: 0.756\n"
          ]
        }
      ]
    }
  ]
}