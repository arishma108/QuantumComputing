{
  "nbformat": 4,
  "nbformat_minor": 0,
  "metadata": {
    "colab": {
      "provenance": [],
      "authorship_tag": "ABX9TyN0ifwIKLRZvECknt9o0SYC",
      "include_colab_link": true
    },
    "kernelspec": {
      "name": "python3",
      "display_name": "Python 3"
    },
    "language_info": {
      "name": "python"
    }
  },
  "cells": [
    {
      "cell_type": "markdown",
      "metadata": {
        "id": "view-in-github",
        "colab_type": "text"
      },
      "source": [
        "<a href=\"https://colab.research.google.com/github/arishma108/QuantumComputing/blob/master/Quantum%20Algorithms/Quantum_Query_Algorithms.ipynb\" target=\"_parent\"><img src=\"https://colab.research.google.com/assets/colab-badge.svg\" alt=\"Open In Colab\"/></a>"
      ]
    },
    {
      "cell_type": "code",
      "execution_count": 1,
      "metadata": {
        "colab": {
          "base_uri": "https://localhost:8080/"
        },
        "id": "Ieqt_1DNGhgF",
        "outputId": "fc801915-48b9-4a4b-e9af-73fe1dac959d"
      },
      "outputs": [
        {
          "output_type": "stream",
          "name": "stdout",
          "text": [
            "Collecting qiskit\n",
            "  Downloading qiskit-1.1.0-cp38-abi3-manylinux_2_17_x86_64.manylinux2014_x86_64.whl (4.3 MB)\n",
            "\u001b[2K     \u001b[90m━━━━━━━━━━━━━━━━━━━━━━━━━━━━━━━━━━━━━━━━\u001b[0m \u001b[32m4.3/4.3 MB\u001b[0m \u001b[31m11.6 MB/s\u001b[0m eta \u001b[36m0:00:00\u001b[0m\n",
            "\u001b[?25hCollecting rustworkx>=0.14.0 (from qiskit)\n",
            "  Downloading rustworkx-0.14.2-cp310-cp310-manylinux_2_17_x86_64.manylinux2014_x86_64.whl (2.1 MB)\n",
            "\u001b[2K     \u001b[90m━━━━━━━━━━━━━━━━━━━━━━━━━━━━━━━━━━━━━━━━\u001b[0m \u001b[32m2.1/2.1 MB\u001b[0m \u001b[31m23.0 MB/s\u001b[0m eta \u001b[36m0:00:00\u001b[0m\n",
            "\u001b[?25hRequirement already satisfied: numpy<3,>=1.17 in /usr/local/lib/python3.10/dist-packages (from qiskit) (1.25.2)\n",
            "Requirement already satisfied: scipy>=1.5 in /usr/local/lib/python3.10/dist-packages (from qiskit) (1.11.4)\n",
            "Requirement already satisfied: sympy>=1.3 in /usr/local/lib/python3.10/dist-packages (from qiskit) (1.12.1)\n",
            "Collecting dill>=0.3 (from qiskit)\n",
            "  Downloading dill-0.3.8-py3-none-any.whl (116 kB)\n",
            "\u001b[2K     \u001b[90m━━━━━━━━━━━━━━━━━━━━━━━━━━━━━━━━━━━━━━━━\u001b[0m \u001b[32m116.3/116.3 kB\u001b[0m \u001b[31m8.4 MB/s\u001b[0m eta \u001b[36m0:00:00\u001b[0m\n",
            "\u001b[?25hRequirement already satisfied: python-dateutil>=2.8.0 in /usr/local/lib/python3.10/dist-packages (from qiskit) (2.8.2)\n",
            "Collecting stevedore>=3.0.0 (from qiskit)\n",
            "  Downloading stevedore-5.2.0-py3-none-any.whl (49 kB)\n",
            "\u001b[2K     \u001b[90m━━━━━━━━━━━━━━━━━━━━━━━━━━━━━━━━━━━━━━━━\u001b[0m \u001b[32m49.7/49.7 kB\u001b[0m \u001b[31m3.9 MB/s\u001b[0m eta \u001b[36m0:00:00\u001b[0m\n",
            "\u001b[?25hRequirement already satisfied: typing-extensions in /usr/local/lib/python3.10/dist-packages (from qiskit) (4.12.2)\n",
            "Collecting symengine>=0.11 (from qiskit)\n",
            "  Downloading symengine-0.11.0-cp310-cp310-manylinux_2_12_x86_64.manylinux2010_x86_64.whl (39.4 MB)\n",
            "\u001b[2K     \u001b[90m━━━━━━━━━━━━━━━━━━━━━━━━━━━━━━━━━━━━━━━━\u001b[0m \u001b[32m39.4/39.4 MB\u001b[0m \u001b[31m7.3 MB/s\u001b[0m eta \u001b[36m0:00:00\u001b[0m\n",
            "\u001b[?25hRequirement already satisfied: six>=1.5 in /usr/local/lib/python3.10/dist-packages (from python-dateutil>=2.8.0->qiskit) (1.16.0)\n",
            "Collecting pbr!=2.1.0,>=2.0.0 (from stevedore>=3.0.0->qiskit)\n",
            "  Downloading pbr-6.0.0-py2.py3-none-any.whl (107 kB)\n",
            "\u001b[2K     \u001b[90m━━━━━━━━━━━━━━━━━━━━━━━━━━━━━━━━━━━━━━━━\u001b[0m \u001b[32m107.5/107.5 kB\u001b[0m \u001b[31m3.3 MB/s\u001b[0m eta \u001b[36m0:00:00\u001b[0m\n",
            "\u001b[?25hRequirement already satisfied: mpmath<1.4.0,>=1.1.0 in /usr/local/lib/python3.10/dist-packages (from sympy>=1.3->qiskit) (1.3.0)\n",
            "Installing collected packages: symengine, rustworkx, pbr, dill, stevedore, qiskit\n",
            "Successfully installed dill-0.3.8 pbr-6.0.0 qiskit-1.1.0 rustworkx-0.14.2 stevedore-5.2.0 symengine-0.11.0\n"
          ]
        }
      ],
      "source": [
        "!pip install qiskit"
      ]
    },
    {
      "cell_type": "code",
      "source": [
        "from qiskit import QuantumCircuit\n",
        "\n",
        "def deutsch_function(case: int):\n",
        "    \"\"\"\n",
        "    Generate a valid Deutsch function as a `QuantumCircuit`.\n",
        "    \"\"\"\n",
        "    if case not in [1, 2, 3, 4]:\n",
        "        raise ValueError(\"`case` must be 1, 2, 3, or 4.\")\n",
        "\n",
        "    f = QuantumCircuit(2)\n",
        "    if case in [2, 3]:\n",
        "        f.cx(0, 1)\n",
        "    if case in [3, 4]:\n",
        "        f.x(1)\n",
        "    return f"
      ],
      "metadata": {
        "id": "OgxOgSgkHBjs"
      },
      "execution_count": 2,
      "outputs": []
    },
    {
      "cell_type": "code",
      "source": [
        "display(deutsch_function(3).draw())"
      ],
      "metadata": {
        "colab": {
          "base_uri": "https://localhost:8080/",
          "height": 94
        },
        "id": "rSEBkWSSHE_7",
        "outputId": "f90b49ce-ada5-4d95-bce1-73e2a3c381f4"
      },
      "execution_count": 3,
      "outputs": [
        {
          "output_type": "display_data",
          "data": {
            "text/plain": [
              "               \n",
              "q_0: ──■───────\n",
              "     ┌─┴─┐┌───┐\n",
              "q_1: ┤ X ├┤ X ├\n",
              "     └───┘└───┘"
            ],
            "text/html": [
              "<pre style=\"word-wrap: normal;white-space: pre;background: #fff0;line-height: 1.1;font-family: &quot;Courier New&quot;,Courier,monospace\">               \n",
              "q_0: ──■───────\n",
              "     ┌─┴─┐┌───┐\n",
              "q_1: ┤ X ├┤ X ├\n",
              "     └───┘└───┘</pre>"
            ]
          },
          "metadata": {}
        }
      ]
    },
    {
      "cell_type": "code",
      "source": [
        "def compile_circuit(function: QuantumCircuit):\n",
        "    \"\"\"\n",
        "    Compiles a circuit for use in Deutsch's algorithm.\n",
        "    \"\"\"\n",
        "    n = function.num_qubits - 1\n",
        "    qc = QuantumCircuit(n + 1, n)\n",
        "\n",
        "    qc.x(n)\n",
        "    qc.h(range(n + 1))\n",
        "\n",
        "    qc.barrier()\n",
        "    qc.compose(function, inplace=True)\n",
        "    qc.barrier()\n",
        "\n",
        "    qc.h(range(n))\n",
        "    qc.measure(range(n), range(n))\n",
        "\n",
        "    return qc"
      ],
      "metadata": {
        "id": "gCTeKoI4HHUT"
      },
      "execution_count": 4,
      "outputs": []
    },
    {
      "cell_type": "code",
      "source": [
        "display(compile_circuit(deutsch_function(3)).draw())"
      ],
      "metadata": {
        "colab": {
          "base_uri": "https://localhost:8080/",
          "height": 125
        },
        "id": "r5nlbvWBHNBy",
        "outputId": "d2e430c0-6674-4da1-eefb-ee570f70e8a4"
      },
      "execution_count": 5,
      "outputs": [
        {
          "output_type": "display_data",
          "data": {
            "text/plain": [
              "     ┌───┐      ░            ░ ┌───┐┌─┐\n",
              "q_0: ┤ H ├──────░───■────────░─┤ H ├┤M├\n",
              "     ├───┤┌───┐ ░ ┌─┴─┐┌───┐ ░ └───┘└╥┘\n",
              "q_1: ┤ X ├┤ H ├─░─┤ X ├┤ X ├─░───────╫─\n",
              "     └───┘└───┘ ░ └───┘└───┘ ░       ║ \n",
              "c: 1/════════════════════════════════╩═\n",
              "                                     0 "
            ],
            "text/html": [
              "<pre style=\"word-wrap: normal;white-space: pre;background: #fff0;line-height: 1.1;font-family: &quot;Courier New&quot;,Courier,monospace\">     ┌───┐      ░            ░ ┌───┐┌─┐\n",
              "q_0: ┤ H ├──────░───■────────░─┤ H ├┤M├\n",
              "     ├───┤┌───┐ ░ ┌─┴─┐┌───┐ ░ └───┘└╥┘\n",
              "q_1: ┤ X ├┤ H ├─░─┤ X ├┤ X ├─░───────╫─\n",
              "     └───┘└───┘ ░ └───┘└───┘ ░       ║ \n",
              "c: 1/════════════════════════════════╩═\n",
              "                                     0 </pre>"
            ]
          },
          "metadata": {}
        }
      ]
    },
    {
      "cell_type": "code",
      "source": [
        "!pip install qiskit-aer\n",
        "from qiskit_aer import AerSimulator\n",
        "\n",
        "def deutsch_algorithm(function: QuantumCircuit):\n",
        "    \"\"\"\n",
        "    Determine if a Deutsch function is constant or balanced.\n",
        "    \"\"\"\n",
        "    qc = compile_circuit(function)\n",
        "\n",
        "    result = AerSimulator().run(qc, shots=1, memory=True).result()\n",
        "    measurements = result.get_memory()\n",
        "    if measurements[0] == \"0\":\n",
        "        return \"constant\"\n",
        "    return \"balanced\""
      ],
      "metadata": {
        "colab": {
          "base_uri": "https://localhost:8080/"
        },
        "id": "XshJjPEJHQI0",
        "outputId": "2a463854-e642-4a88-e4d8-b5a3932a7828"
      },
      "execution_count": 7,
      "outputs": [
        {
          "output_type": "stream",
          "name": "stdout",
          "text": [
            "Collecting qiskit-aer\n",
            "  Downloading qiskit_aer-0.14.2-cp310-cp310-manylinux_2_17_x86_64.manylinux2014_x86_64.whl (12.4 MB)\n",
            "\u001b[2K     \u001b[90m━━━━━━━━━━━━━━━━━━━━━━━━━━━━━━━━━━━━━━━━\u001b[0m \u001b[32m12.4/12.4 MB\u001b[0m \u001b[31m69.3 MB/s\u001b[0m eta \u001b[36m0:00:00\u001b[0m\n",
            "\u001b[?25hRequirement already satisfied: qiskit>=0.45.2 in /usr/local/lib/python3.10/dist-packages (from qiskit-aer) (1.1.0)\n",
            "Requirement already satisfied: numpy>=1.16.3 in /usr/local/lib/python3.10/dist-packages (from qiskit-aer) (1.25.2)\n",
            "Requirement already satisfied: scipy>=1.0 in /usr/local/lib/python3.10/dist-packages (from qiskit-aer) (1.11.4)\n",
            "Requirement already satisfied: psutil>=5 in /usr/local/lib/python3.10/dist-packages (from qiskit-aer) (5.9.5)\n",
            "Requirement already satisfied: rustworkx>=0.14.0 in /usr/local/lib/python3.10/dist-packages (from qiskit>=0.45.2->qiskit-aer) (0.14.2)\n",
            "Requirement already satisfied: sympy>=1.3 in /usr/local/lib/python3.10/dist-packages (from qiskit>=0.45.2->qiskit-aer) (1.12.1)\n",
            "Requirement already satisfied: dill>=0.3 in /usr/local/lib/python3.10/dist-packages (from qiskit>=0.45.2->qiskit-aer) (0.3.8)\n",
            "Requirement already satisfied: python-dateutil>=2.8.0 in /usr/local/lib/python3.10/dist-packages (from qiskit>=0.45.2->qiskit-aer) (2.8.2)\n",
            "Requirement already satisfied: stevedore>=3.0.0 in /usr/local/lib/python3.10/dist-packages (from qiskit>=0.45.2->qiskit-aer) (5.2.0)\n",
            "Requirement already satisfied: typing-extensions in /usr/local/lib/python3.10/dist-packages (from qiskit>=0.45.2->qiskit-aer) (4.12.2)\n",
            "Requirement already satisfied: symengine>=0.11 in /usr/local/lib/python3.10/dist-packages (from qiskit>=0.45.2->qiskit-aer) (0.11.0)\n",
            "Requirement already satisfied: six>=1.5 in /usr/local/lib/python3.10/dist-packages (from python-dateutil>=2.8.0->qiskit>=0.45.2->qiskit-aer) (1.16.0)\n",
            "Requirement already satisfied: pbr!=2.1.0,>=2.0.0 in /usr/local/lib/python3.10/dist-packages (from stevedore>=3.0.0->qiskit>=0.45.2->qiskit-aer) (6.0.0)\n",
            "Requirement already satisfied: mpmath<1.4.0,>=1.1.0 in /usr/local/lib/python3.10/dist-packages (from sympy>=1.3->qiskit>=0.45.2->qiskit-aer) (1.3.0)\n",
            "Installing collected packages: qiskit-aer\n",
            "Successfully installed qiskit-aer-0.14.2\n"
          ]
        }
      ]
    },
    {
      "cell_type": "code",
      "source": [
        "f = deutsch_function(3)\n",
        "display(f.draw())\n",
        "display(deutsch_algorithm(f))"
      ],
      "metadata": {
        "colab": {
          "base_uri": "https://localhost:8080/",
          "height": 115
        },
        "id": "SIz_Z9WmHhvD",
        "outputId": "5fb9db83-5e0e-48e6-f7b0-fc4d3e102c50"
      },
      "execution_count": 8,
      "outputs": [
        {
          "output_type": "display_data",
          "data": {
            "text/plain": [
              "               \n",
              "q_0: ──■───────\n",
              "     ┌─┴─┐┌───┐\n",
              "q_1: ┤ X ├┤ X ├\n",
              "     └───┘└───┘"
            ],
            "text/html": [
              "<pre style=\"word-wrap: normal;white-space: pre;background: #fff0;line-height: 1.1;font-family: &quot;Courier New&quot;,Courier,monospace\">               \n",
              "q_0: ──■───────\n",
              "     ┌─┴─┐┌───┐\n",
              "q_1: ┤ X ├┤ X ├\n",
              "     └───┘└───┘</pre>"
            ]
          },
          "metadata": {}
        },
        {
          "output_type": "display_data",
          "data": {
            "text/plain": [
              "'balanced'"
            ],
            "application/vnd.google.colaboratory.intrinsic+json": {
              "type": "string"
            }
          },
          "metadata": {}
        }
      ]
    },
    {
      "cell_type": "code",
      "source": [
        "from qiskit import QuantumCircuit\n",
        "import numpy as np\n",
        "\n",
        "def dj_function(num_qubits):\n",
        "    \"\"\"\n",
        "    Create a random Deutsch-Jozsa function.\n",
        "    \"\"\"\n",
        "\n",
        "    qc = QuantumCircuit(num_qubits + 1)\n",
        "    if np.random.randint(0, 2):\n",
        "        # Flip output qubit with 50% chance\n",
        "        qc.x(num_qubits)\n",
        "    if np.random.randint(0, 2):\n",
        "        # return constant circuit with 50% chance\n",
        "        return qc\n",
        "\n",
        "    # next, choose half the possible input states\n",
        "    on_states = np.random.choice(\n",
        "        range(2**num_qubits),  # numbers to sample from\n",
        "        2**num_qubits // 2,  # number of samples\n",
        "        replace=False,  # makes sure states are only sampled once\n",
        "    )\n",
        "\n",
        "    def add_cx(qc, bit_string):\n",
        "        for qubit, bit in enumerate(reversed(bit_string)):\n",
        "            if bit == \"1\":\n",
        "                qc.x(qubit)\n",
        "        return qc\n",
        "\n",
        "    for state in on_states:\n",
        "        qc.barrier()  # Barriers are added to help visualize how the functions are created. They can safely be removed.\n",
        "        qc = add_cx(qc, f\"{state:0b}\")\n",
        "        qc.mcx(list(range(num_qubits)), num_qubits)\n",
        "        qc = add_cx(qc, f\"{state:0b}\")\n",
        "\n",
        "    qc.barrier()\n",
        "\n",
        "    return qc"
      ],
      "metadata": {
        "id": "AforCQE_HluS"
      },
      "execution_count": 9,
      "outputs": []
    },
    {
      "cell_type": "code",
      "source": [
        "display(dj_function(3).draw())"
      ],
      "metadata": {
        "colab": {
          "base_uri": "https://localhost:8080/",
          "height": 294
        },
        "id": "4vhYWA_6HolS",
        "outputId": "9358c9fd-ded0-480c-9acb-7273b52ad9ff"
      },
      "execution_count": 10,
      "outputs": [
        {
          "output_type": "display_data",
          "data": {
            "text/plain": [
              "           ░ ┌───┐     ┌───┐ ░                 ░ ┌───┐     ┌───┐ ░           »\n",
              "q_0: ──────░─┤ X ├──■──┤ X ├─░────────■────────░─┤ X ├──■──┤ X ├─░────────■──»\n",
              "           ░ └───┘  │  └───┘ ░ ┌───┐  │  ┌───┐ ░ ├───┤  │  ├───┤ ░ ┌───┐  │  »\n",
              "q_1: ──────░────────■────────░─┤ X ├──■──┤ X ├─░─┤ X ├──■──┤ X ├─░─┤ X ├──■──»\n",
              "           ░ ┌───┐  │  ┌───┐ ░ └───┘  │  └───┘ ░ └───┘  │  └───┘ ░ ├───┤  │  »\n",
              "q_2: ──────░─┤ X ├──■──┤ X ├─░────────■────────░────────■────────░─┤ X ├──■──»\n",
              "     ┌───┐ ░ └───┘┌─┴─┐└───┘ ░      ┌─┴─┐      ░      ┌─┴─┐      ░ └───┘┌─┴─┐»\n",
              "q_3: ┤ X ├─░──────┤ X ├──────░──────┤ X ├──────░──────┤ X ├──────░──────┤ X ├»\n",
              "     └───┘ ░      └───┘      ░      └───┘      ░      └───┘      ░      └───┘»\n",
              "«           ░ \n",
              "«q_0: ──────░─\n",
              "«     ┌───┐ ░ \n",
              "«q_1: ┤ X ├─░─\n",
              "«     ├───┤ ░ \n",
              "«q_2: ┤ X ├─░─\n",
              "«     └───┘ ░ \n",
              "«q_3: ──────░─\n",
              "«           ░ "
            ],
            "text/html": [
              "<pre style=\"word-wrap: normal;white-space: pre;background: #fff0;line-height: 1.1;font-family: &quot;Courier New&quot;,Courier,monospace\">           ░ ┌───┐     ┌───┐ ░                 ░ ┌───┐     ┌───┐ ░           »\n",
              "q_0: ──────░─┤ X ├──■──┤ X ├─░────────■────────░─┤ X ├──■──┤ X ├─░────────■──»\n",
              "           ░ └───┘  │  └───┘ ░ ┌───┐  │  ┌───┐ ░ ├───┤  │  ├───┤ ░ ┌───┐  │  »\n",
              "q_1: ──────░────────■────────░─┤ X ├──■──┤ X ├─░─┤ X ├──■──┤ X ├─░─┤ X ├──■──»\n",
              "           ░ ┌───┐  │  ┌───┐ ░ └───┘  │  └───┘ ░ └───┘  │  └───┘ ░ ├───┤  │  »\n",
              "q_2: ──────░─┤ X ├──■──┤ X ├─░────────■────────░────────■────────░─┤ X ├──■──»\n",
              "     ┌───┐ ░ └───┘┌─┴─┐└───┘ ░      ┌─┴─┐      ░      ┌─┴─┐      ░ └───┘┌─┴─┐»\n",
              "q_3: ┤ X ├─░──────┤ X ├──────░──────┤ X ├──────░──────┤ X ├──────░──────┤ X ├»\n",
              "     └───┘ ░      └───┘      ░      └───┘      ░      └───┘      ░      └───┘»\n",
              "«           ░ \n",
              "«q_0: ──────░─\n",
              "«     ┌───┐ ░ \n",
              "«q_1: ┤ X ├─░─\n",
              "«     ├───┤ ░ \n",
              "«q_2: ┤ X ├─░─\n",
              "«     └───┘ ░ \n",
              "«q_3: ──────░─\n",
              "«           ░ </pre>"
            ]
          },
          "metadata": {}
        }
      ]
    },
    {
      "cell_type": "code",
      "source": [
        "def compile_circuit(function: QuantumCircuit):\n",
        "    \"\"\"\n",
        "    Compiles a circuit for use in the Deutsch-Jozsa algorithm.\n",
        "    \"\"\"\n",
        "    n = function.num_qubits - 1\n",
        "    qc = QuantumCircuit(n + 1, n)\n",
        "    qc.x(n)\n",
        "    qc.h(range(n + 1))\n",
        "    qc.compose(function, inplace=True)\n",
        "    qc.h(range(n))\n",
        "    qc.measure(range(n), range(n))\n",
        "    return qc"
      ],
      "metadata": {
        "id": "Gtzi1J-wHriq"
      },
      "execution_count": 11,
      "outputs": []
    },
    {
      "cell_type": "code",
      "source": [
        "from qiskit_aer import AerSimulator\n",
        "\n",
        "def dj_algorithm(function: QuantumCircuit):\n",
        "    \"\"\"\n",
        "    Determine if a Deutsch-Jozsa function is constant or balanced.\n",
        "    \"\"\"\n",
        "    qc = compile_circuit(function)\n",
        "\n",
        "    result = AerSimulator().run(qc, shots=1, memory=True).result()\n",
        "    measurements = result.get_memory()\n",
        "    if \"1\" in measurements[0]:\n",
        "        return \"balanced\"\n",
        "    return \"constant\""
      ],
      "metadata": {
        "id": "HtAvJHKcHtmC"
      },
      "execution_count": 12,
      "outputs": []
    },
    {
      "cell_type": "code",
      "source": [
        "f = dj_function(3)\n",
        "display(f.draw())\n",
        "display(dj_algorithm(f))"
      ],
      "metadata": {
        "colab": {
          "base_uri": "https://localhost:8080/",
          "height": 177
        },
        "id": "u9HbGehiHxMK",
        "outputId": "1215f374-3c87-4853-bfde-d2e69c82aa19"
      },
      "execution_count": 13,
      "outputs": [
        {
          "output_type": "display_data",
          "data": {
            "text/plain": [
              "     \n",
              "q_0: \n",
              "     \n",
              "q_1: \n",
              "     \n",
              "q_2: \n",
              "     \n",
              "q_3: \n",
              "     "
            ],
            "text/html": [
              "<pre style=\"word-wrap: normal;white-space: pre;background: #fff0;line-height: 1.1;font-family: &quot;Courier New&quot;,Courier,monospace\">     \n",
              "q_0: \n",
              "     \n",
              "q_1: \n",
              "     \n",
              "q_2: \n",
              "     \n",
              "q_3: \n",
              "     </pre>"
            ]
          },
          "metadata": {}
        },
        {
          "output_type": "display_data",
          "data": {
            "text/plain": [
              "'constant'"
            ],
            "application/vnd.google.colaboratory.intrinsic+json": {
              "type": "string"
            }
          },
          "metadata": {}
        }
      ]
    },
    {
      "cell_type": "code",
      "source": [
        "def bv_function(s):\n",
        "    \"\"\"\n",
        "    Create a Bernstein-Vazirani function from a string of 1s and 0s.\n",
        "    \"\"\"\n",
        "    qc = QuantumCircuit(len(s) + 1)\n",
        "    for index, bit in enumerate(reversed(s)):\n",
        "        if bit == \"1\":\n",
        "            qc.cx(index, len(s))\n",
        "    return qc\n",
        "\n",
        "display(bv_function(\"1001\").draw())\n"
      ],
      "metadata": {
        "colab": {
          "base_uri": "https://localhost:8080/",
          "height": 186
        },
        "id": "QvM4OzLwH36h",
        "outputId": "fe65d16e-b8b0-4bfa-fc01-7058118e50c9"
      },
      "execution_count": 14,
      "outputs": [
        {
          "output_type": "display_data",
          "data": {
            "text/plain": [
              "               \n",
              "q_0: ──■───────\n",
              "       │       \n",
              "q_1: ──┼───────\n",
              "       │       \n",
              "q_2: ──┼───────\n",
              "       │       \n",
              "q_3: ──┼────■──\n",
              "     ┌─┴─┐┌─┴─┐\n",
              "q_4: ┤ X ├┤ X ├\n",
              "     └───┘└───┘"
            ],
            "text/html": [
              "<pre style=\"word-wrap: normal;white-space: pre;background: #fff0;line-height: 1.1;font-family: &quot;Courier New&quot;,Courier,monospace\">               \n",
              "q_0: ──■───────\n",
              "       │       \n",
              "q_1: ──┼───────\n",
              "       │       \n",
              "q_2: ──┼───────\n",
              "       │       \n",
              "q_3: ──┼────■──\n",
              "     ┌─┴─┐┌─┴─┐\n",
              "q_4: ┤ X ├┤ X ├\n",
              "     └───┘└───┘</pre>"
            ]
          },
          "metadata": {}
        }
      ]
    },
    {
      "cell_type": "code",
      "source": [
        "def bv_algorithm(function: QuantumCircuit):\n",
        "    qc = compile_circuit(function)\n",
        "    result = AerSimulator().run(qc, shots=1, memory=True).result()\n",
        "    return result.get_memory()[0]\n",
        "\n",
        "display(bv_algorithm(bv_function(\"1001\")))"
      ],
      "metadata": {
        "colab": {
          "base_uri": "https://localhost:8080/",
          "height": 38
        },
        "id": "etNz-UpVH8dJ",
        "outputId": "70f0671f-26b8-4d65-eeb4-fd08bffe0790"
      },
      "execution_count": 15,
      "outputs": [
        {
          "output_type": "display_data",
          "data": {
            "text/plain": [
              "'1001'"
            ],
            "application/vnd.google.colaboratory.intrinsic+json": {
              "type": "string"
            }
          },
          "metadata": {}
        }
      ]
    },
    {
      "cell_type": "code",
      "source": [
        "# import random\n",
        "import qiskit.quantum_info as qi\n",
        "from qiskit import QuantumCircuit\n",
        "import numpy as np\n",
        "\n",
        "def simon_function(s: str):\n",
        "    \"\"\"\n",
        "    Create a QuantumCircuit implementing a query gate for Simon problem obeying the promise for the hidden string `s`\n",
        "    \"\"\"\n",
        "    # Our quantum circuit has 2n qubits for n = len(s)\n",
        "    n = len(s)\n",
        "    qc = QuantumCircuit(2 * n)\n",
        "\n",
        "    # Define a random permutation of all n bit strings. This permutation will effectively hide the string s.\n",
        "    pi = np.random.permutation(2**n)\n",
        "\n",
        "    # Now we'll define a query gate explicitly. The idea is to first define a function g(x) = min{x,x ^ s}, which\n",
        "    # is a simple function that satisfies the promise, and then we take f to be the composition of g and the random\n",
        "    # permutation pi. This gives us a random function satisfying the promise for s.\n",
        "\n",
        "    query_gate = np.zeros((4**n, 4**n))\n",
        "    for x in range(2**n):\n",
        "        for y in range(2**n):\n",
        "            z = y ^ pi[min(x, x ^ int(s, 2))]\n",
        "            query_gate[x + 2**n * z, x + 2**n * y] = 1\n",
        "\n",
        "    # Our circuit has just this one query gate\n",
        "    qc.unitary(query_gate, range(2 * n))\n",
        "    return qc"
      ],
      "metadata": {
        "id": "DZHXcSiQIBXQ"
      },
      "execution_count": 16,
      "outputs": []
    },
    {
      "cell_type": "code",
      "source": [
        "from qiskit_aer import AerSimulator\n",
        "from qiskit import ClassicalRegister\n",
        "\n",
        "def simon_measurements(problem: QuantumCircuit, k: int):\n",
        "    \"\"\"\n",
        "    Quantum part of Simon's algorithm. Given a `QuantumCircuit` that\n",
        "    implements f, get `k` measurements to be post-processed later.\n",
        "    \"\"\"\n",
        "    n = problem.num_qubits // 2\n",
        "\n",
        "    qc = QuantumCircuit(2 * n, n)\n",
        "    qc.h(range(n))\n",
        "    qc.compose(problem, inplace=True)\n",
        "    qc.h(range(n))\n",
        "    qc.measure(range(n), range(n))\n",
        "\n",
        "    result = AerSimulator().run(qc, shots=k, memory=True).result()\n",
        "    return result.get_memory()"
      ],
      "metadata": {
        "id": "Jp0P3oTAIEt4"
      },
      "execution_count": 17,
      "outputs": []
    },
    {
      "cell_type": "code",
      "source": [
        "display(simon_measurements(simon_function(\"11011\"),k=12))"
      ],
      "metadata": {
        "colab": {
          "base_uri": "https://localhost:8080/",
          "height": 225
        },
        "id": "nz07sOAkIG5I",
        "outputId": "2d8d67e3-42ba-4ba3-ad97-3ad6ce355152"
      },
      "execution_count": 18,
      "outputs": [
        {
          "output_type": "display_data",
          "data": {
            "text/plain": [
              "['10010',\n",
              " '10110',\n",
              " '11100',\n",
              " '11100',\n",
              " '01110',\n",
              " '11100',\n",
              " '11000',\n",
              " '10101',\n",
              " '10110',\n",
              " '00011',\n",
              " '10010',\n",
              " '01101']"
            ]
          },
          "metadata": {}
        }
      ]
    },
    {
      "cell_type": "code",
      "source": [
        "!pip install galois\n",
        "import numpy as np\n",
        "import galois\n",
        "\n",
        "def simon_algorithm(problem: QuantumCircuit):\n",
        "    \"\"\"\n",
        "    Given a `QuantumCircuit` that implements a query gate for Simon problem, return the hidden string `s`.\n",
        "    \"\"\"\n",
        "\n",
        "    # Quantum part: run the circuit defined previously k times and gather the measurement results.\n",
        "    # Replace +10 by +r for any nonnegative integer r depending on desired confidence.\n",
        "\n",
        "    measurements = simon_measurements(problem, k=problem.num_qubits // 2 + 10)\n",
        "    print(\"Measurement results:\")\n",
        "    display(measurements)\n",
        "\n",
        "    # Classical post-processing:\n",
        "\n",
        "    # 1. Convert measurements of form '11101' to 2D-array of integers\n",
        "    matrix = np.array([list(bitstring) for bitstring in measurements]).astype(int)\n",
        "\n",
        "    # 2. Interpret matrix as using arithmetic mod 2, and find null space\n",
        "    null_space = galois.GF(2)(matrix).null_space()\n",
        "    print(\"Null space:\")\n",
        "    display(null_space)\n",
        "\n",
        "    # 3. Convert back to a string\n",
        "    print(\"Guess for hidden string s:\")\n",
        "    if len(null_space) == 0:\n",
        "        # No non-trivial solution; `s` is all-zeros\n",
        "        return \"0\" * len(measurements[0])\n",
        "    return \"\".join(np.array(null_space[0]).astype(str))"
      ],
      "metadata": {
        "colab": {
          "base_uri": "https://localhost:8080/"
        },
        "id": "vGQqwCOyIKVw",
        "outputId": "0b4588bc-3161-4ff8-ebe9-40f6000c7b40"
      },
      "execution_count": 20,
      "outputs": [
        {
          "output_type": "stream",
          "name": "stdout",
          "text": [
            "Collecting galois\n",
            "  Downloading galois-0.3.9-py3-none-any.whl (4.2 MB)\n",
            "\u001b[2K     \u001b[90m━━━━━━━━━━━━━━━━━━━━━━━━━━━━━━━━━━━━━━━━\u001b[0m \u001b[32m4.2/4.2 MB\u001b[0m \u001b[31m31.0 MB/s\u001b[0m eta \u001b[36m0:00:00\u001b[0m\n",
            "\u001b[?25hRequirement already satisfied: numpy<1.27,>=1.21.0 in /usr/local/lib/python3.10/dist-packages (from galois) (1.25.2)\n",
            "Requirement already satisfied: numba<0.60,>=0.55 in /usr/local/lib/python3.10/dist-packages (from galois) (0.58.1)\n",
            "Requirement already satisfied: typing-extensions>=4.0.0 in /usr/local/lib/python3.10/dist-packages (from galois) (4.12.2)\n",
            "Requirement already satisfied: llvmlite<0.42,>=0.41.0dev0 in /usr/local/lib/python3.10/dist-packages (from numba<0.60,>=0.55->galois) (0.41.1)\n",
            "Installing collected packages: galois\n",
            "Successfully installed galois-0.3.9\n"
          ]
        }
      ]
    },
    {
      "cell_type": "code",
      "source": [
        "display(simon_algorithm(simon_function(\"10011\")))"
      ],
      "metadata": {
        "colab": {
          "base_uri": "https://localhost:8080/",
          "height": 368
        },
        "id": "95mliqbkIcn8",
        "outputId": "4085da91-a574-4a74-f6b7-b73fc6bf0016"
      },
      "execution_count": 21,
      "outputs": [
        {
          "output_type": "stream",
          "name": "stdout",
          "text": [
            "Measurement results:\n"
          ]
        },
        {
          "output_type": "display_data",
          "data": {
            "text/plain": [
              "['00100',\n",
              " '00100',\n",
              " '10001',\n",
              " '00011',\n",
              " '01011',\n",
              " '00111',\n",
              " '11110',\n",
              " '01000',\n",
              " '00111',\n",
              " '00100',\n",
              " '01011',\n",
              " '01100',\n",
              " '11010',\n",
              " '10010',\n",
              " '10001']"
            ]
          },
          "metadata": {}
        },
        {
          "output_type": "stream",
          "name": "stdout",
          "text": [
            "Null space:\n"
          ]
        },
        {
          "output_type": "display_data",
          "data": {
            "text/plain": [
              "GF([[1, 0, 0, 1, 1]], order=2)"
            ]
          },
          "metadata": {}
        },
        {
          "output_type": "stream",
          "name": "stdout",
          "text": [
            "Guess for hidden string s:\n"
          ]
        },
        {
          "output_type": "display_data",
          "data": {
            "text/plain": [
              "'10011'"
            ],
            "application/vnd.google.colaboratory.intrinsic+json": {
              "type": "string"
            }
          },
          "metadata": {}
        }
      ]
    }
  ]
}